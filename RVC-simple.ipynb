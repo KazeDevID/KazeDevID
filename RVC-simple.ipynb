{
  "nbformat": 4,
  "nbformat_minor": 0,
  "metadata": {
    "colab": {
      "provenance": [],
      "gpuType": "T4",
      "include_colab_link": true
    },
    "kernelspec": {
      "name": "python3",
      "display_name": "Python 3"
    },
    "language_info": {
      "name": "python"
    },
    "accelerator": "GPU"
  },
  "cells": [
    {
      "cell_type": "markdown",
      "metadata": {
        "id": "view-in-github",
        "colab_type": "text"
      },
      "source": [
        "<a href=\"https://colab.research.google.com/github/KazeDevID/Webui/blob/master/RVC-simple.ipynb\" target=\"_parent\"><img src=\"https://colab.research.google.com/assets/colab-badge.svg\" alt=\"Open In Colab\"/></a>"
      ]
    },
    {
      "cell_type": "markdown",
      "source": [
        "# Check Your GPU"
      ],
      "metadata": {
        "id": "kwjWcLtIGP56"
      }
    },
    {
      "cell_type": "code",
      "source": [
        "!nvidia-smi"
      ],
      "metadata": {
        "id": "I7XtgrWyGO03",
        "outputId": "1ba58c53-4f6c-4503-aea6-2e31143f0cb8",
        "colab": {
          "base_uri": "https://localhost:8080/"
        }
      },
      "execution_count": null,
      "outputs": [
        {
          "output_type": "stream",
          "name": "stdout",
          "text": [
            "Sat May 27 21:21:33 2023       \n",
            "+-----------------------------------------------------------------------------+\n",
            "| NVIDIA-SMI 525.85.12    Driver Version: 525.85.12    CUDA Version: 12.0     |\n",
            "|-------------------------------+----------------------+----------------------+\n",
            "| GPU  Name        Persistence-M| Bus-Id        Disp.A | Volatile Uncorr. ECC |\n",
            "| Fan  Temp  Perf  Pwr:Usage/Cap|         Memory-Usage | GPU-Util  Compute M. |\n",
            "|                               |                      |               MIG M. |\n",
            "|===============================+======================+======================|\n",
            "|   0  Tesla T4            Off  | 00000000:00:04.0 Off |                    0 |\n",
            "| N/A   41C    P8     9W /  70W |      0MiB / 15360MiB |      0%      Default |\n",
            "|                               |                      |                  N/A |\n",
            "+-------------------------------+----------------------+----------------------+\n",
            "                                                                               \n",
            "+-----------------------------------------------------------------------------+\n",
            "| Processes:                                                                  |\n",
            "|  GPU   GI   CI        PID   Type   Process name                  GPU Memory |\n",
            "|        ID   ID                                                   Usage      |\n",
            "|=============================================================================|\n",
            "|  No running processes found                                                 |\n",
            "+-----------------------------------------------------------------------------+\n"
          ]
        }
      ]
    },
    {
      "cell_type": "code",
      "source": [
        "import torch\n",
        "\"GPU 🔥\" if torch.cuda.is_available() else \"CPU 🥶\""
      ],
      "metadata": {
        "id": "re3EAOUUKwL1",
        "outputId": "dde90c2e-905b-417d-8bdf-dbb446d2fdb9",
        "colab": {
          "base_uri": "https://localhost:8080/",
          "height": 35
        }
      },
      "execution_count": null,
      "outputs": [
        {
          "output_type": "execute_result",
          "data": {
            "text/plain": [
              "'GPU 🔥'"
            ],
            "application/vnd.google.colaboratory.intrinsic+json": {
              "type": "string"
            }
          },
          "metadata": {},
          "execution_count": 2
        }
      ]
    },
    {
      "cell_type": "markdown",
      "source": [
        "# Clone Hugging Face Spaces Repo"
      ],
      "metadata": {
        "id": "IuJNlXTDFNRi"
      }
    },
    {
      "cell_type": "code",
      "execution_count": null,
      "metadata": {
        "id": "KzHQxbDoEHVm",
        "outputId": "c27c28a5-7cc9-4a83-bfab-9deaaca5f756",
        "colab": {
          "base_uri": "https://localhost:8080/"
        }
      },
      "outputs": [
        {
          "output_type": "stream",
          "name": "stdout",
          "text": [
            "Cloning into 'rvc-simple'...\n",
            "remote: Enumerating objects: 252, done.\u001b[K\n",
            "remote: Counting objects: 100% (249/249), done.\u001b[K\n",
            "remote: Compressing objects: 100% (247/247), done.\u001b[K\n",
            "remote: Total 252 (delta 56), reused 104 (delta 1), pack-reused 3\u001b[K\n",
            "Receiving objects: 100% (252/252), 5.37 MiB | 19.23 MiB/s, done.\n",
            "Resolving deltas: 100% (56/56), done.\n",
            "Filtering content: 100% (32/32), 2.02 GiB | 65.89 MiB/s, done.\n"
          ]
        }
      ],
      "source": [
        "! git clone https://huggingface.co/spaces/KazeDevID/rvc-simple"
      ]
    },
    {
      "cell_type": "markdown",
      "source": [
        "# Enter the Directory that's just downloaded"
      ],
      "metadata": {
        "id": "bq1JLmTwFQS1"
      }
    },
    {
      "cell_type": "code",
      "source": [
        "%cd rvc-simple"
      ],
      "metadata": {
        "id": "ct3VVCUhEXNS",
        "outputId": "07cb6286-5035-4411-bcd3-99b7db3e98be",
        "colab": {
          "base_uri": "https://localhost:8080/"
        }
      },
      "execution_count": null,
      "outputs": [
        {
          "output_type": "stream",
          "name": "stdout",
          "text": [
            "/content/rvc-simple\n"
          ]
        }
      ]
    },
    {
      "cell_type": "markdown",
      "source": [
        "# Check the contents of the Directory"
      ],
      "metadata": {
        "id": "GbVA-MeMFSB_"
      }
    },
    {
      "cell_type": "code",
      "source": [
        "!ls"
      ],
      "metadata": {
        "id": "tnrRcfoHFJNr",
        "outputId": "e0804512-85bd-4027-f6b6-b17d890b3d4f",
        "colab": {
          "base_uri": "https://localhost:8080/"
        }
      },
      "execution_count": null,
      "outputs": [
        {
          "output_type": "stream",
          "name": "stdout",
          "text": [
            "app.py\t   hubert_base.pt  README.md\t     vc_infer_pipeline.py\n",
            "config.py  infer_pack\t   requirements.txt  weights\n"
          ]
        }
      ]
    },
    {
      "cell_type": "markdown",
      "source": [
        "# Install the required libraries"
      ],
      "metadata": {
        "id": "jSwgikZUFXSq"
      }
    },
    {
      "cell_type": "code",
      "source": [
        "! pip install -r requirements.txt -q"
      ],
      "metadata": {
        "id": "wor-1cibFJ5Y",
        "outputId": "01b0e100-db0c-49a3-f1af-3cd3ab79bacc",
        "colab": {
          "base_uri": "https://localhost:8080/"
        }
      },
      "execution_count": null,
      "outputs": [
        {
          "output_type": "stream",
          "name": "stdout",
          "text": [
            "\u001b[2K     \u001b[90m━━━━━━━━━━━━━━━━━━━━━━━━━━━━━━━━━━━━━━━━\u001b[0m \u001b[32m17.1/17.1 MB\u001b[0m \u001b[31m78.5 MB/s\u001b[0m eta \u001b[36m0:00:00\u001b[0m\n",
            "\u001b[2K     \u001b[90m━━━━━━━━━━━━━━━━━━━━━━━━━━━━━━━━━━━━━━━━\u001b[0m \u001b[32m33.7/33.7 MB\u001b[0m \u001b[31m16.9 MB/s\u001b[0m eta \u001b[36m0:00:00\u001b[0m\n",
            "\u001b[2K     \u001b[90m━━━━━━━━━━━━━━━━━━━━━━━━━━━━━━━━━━━━━━\u001b[0m \u001b[32m214.3/214.3 kB\u001b[0m \u001b[31m26.6 MB/s\u001b[0m eta \u001b[36m0:00:00\u001b[0m\n",
            "\u001b[2K     \u001b[90m━━━━━━━━━━━━━━━━━━━━━━━━━━━━━━━━━━━━━━━━\u001b[0m \u001b[32m34.6/34.6 MB\u001b[0m \u001b[31m42.3 MB/s\u001b[0m eta \u001b[36m0:00:00\u001b[0m\n",
            "\u001b[2K     \u001b[90m━━━━━━━━━━━━━━━━━━━━━━━━━━━━━━━━━━━━━━━━\u001b[0m \u001b[32m9.6/9.6 MB\u001b[0m \u001b[31m119.3 MB/s\u001b[0m eta \u001b[36m0:00:00\u001b[0m\n",
            "\u001b[?25h  Installing build dependencies ... \u001b[?25l\u001b[?25hdone\n",
            "  Getting requirements to build wheel ... \u001b[?25l\u001b[?25hdone\n",
            "  Installing backend dependencies ... \u001b[?25l\u001b[?25hdone\n",
            "  Preparing metadata (pyproject.toml) ... \u001b[?25l\u001b[?25hdone\n",
            "\u001b[2K     \u001b[90m━━━━━━━━━━━━━━━━━━━━━━━━━━━━━━━━━━━━━━━━\u001b[0m \u001b[32m8.6/8.6 MB\u001b[0m \u001b[31m76.5 MB/s\u001b[0m eta \u001b[36m0:00:00\u001b[0m\n",
            "\u001b[2K     \u001b[90m━━━━━━━━━━━━━━━━━━━━━━━━━━━━━━━━━━━━━━━━\u001b[0m \u001b[32m19.9/19.9 MB\u001b[0m \u001b[31m66.9 MB/s\u001b[0m eta \u001b[36m0:00:00\u001b[0m\n",
            "\u001b[2K     \u001b[90m━━━━━━━━━━━━━━━━━━━━━━━━━━━━━━━━━━━━━━\u001b[0m \u001b[32m114.5/114.5 kB\u001b[0m \u001b[31m12.7 MB/s\u001b[0m eta \u001b[36m0:00:00\u001b[0m\n",
            "\u001b[2K     \u001b[90m━━━━━━━━━━━━━━━━━━━━━━━━━━━━━━━━━━━━━━━━\u001b[0m \u001b[32m10.7/10.7 MB\u001b[0m \u001b[31m84.7 MB/s\u001b[0m eta \u001b[36m0:00:00\u001b[0m\n",
            "\u001b[2K     \u001b[90m━━━━━━━━━━━━━━━━━━━━━━━━━━━━━━━━━━━━━━━━\u001b[0m \u001b[32m3.4/3.4 MB\u001b[0m \u001b[31m77.1 MB/s\u001b[0m eta \u001b[36m0:00:00\u001b[0m\n",
            "\u001b[2K     \u001b[90m━━━━━━━━━━━━━━━━━━━━━━━━━━━━━━━━━━━━━━\u001b[0m \u001b[32m218.7/218.7 kB\u001b[0m \u001b[31m24.8 MB/s\u001b[0m eta \u001b[36m0:00:00\u001b[0m\n",
            "\u001b[?25h  Installing build dependencies ... \u001b[?25l\u001b[?25hdone\n",
            "  Getting requirements to build wheel ... \u001b[?25l\u001b[?25hdone\n",
            "  Preparing metadata (pyproject.toml) ... \u001b[?25l\u001b[?25hdone\n",
            "\u001b[2K     \u001b[90m━━━━━━━━━━━━━━━━━━━━━━━━━━━━━━━━━━━━━━━━\u001b[0m \u001b[32m3.1/3.1 MB\u001b[0m \u001b[31m87.9 MB/s\u001b[0m eta \u001b[36m0:00:00\u001b[0m\n",
            "\u001b[2K     \u001b[90m━━━━━━━━━━━━━━━━━━━━━━━━━━━━━━━━━━━━━━━━\u001b[0m \u001b[32m67.0/67.0 kB\u001b[0m \u001b[31m9.1 MB/s\u001b[0m eta \u001b[36m0:00:00\u001b[0m\n",
            "\u001b[2K     \u001b[90m━━━━━━━━━━━━━━━━━━━━━━━━━━━━━━━━━━━━━━━━\u001b[0m \u001b[32m58.3/58.3 kB\u001b[0m \u001b[31m7.3 MB/s\u001b[0m eta \u001b[36m0:00:00\u001b[0m\n",
            "\u001b[2K     \u001b[90m━━━━━━━━━━━━━━━━━━━━━━━━━━━━━━━━━━━━━━\u001b[0m \u001b[32m123.8/123.8 kB\u001b[0m \u001b[31m14.4 MB/s\u001b[0m eta \u001b[36m0:00:00\u001b[0m\n",
            "\u001b[2K     \u001b[90m━━━━━━━━━━━━━━━━━━━━━━━━━━━━━━━━━━━━━━\u001b[0m \u001b[32m118.9/118.9 kB\u001b[0m \u001b[31m14.8 MB/s\u001b[0m eta \u001b[36m0:00:00\u001b[0m\n",
            "\u001b[2K     \u001b[90m━━━━━━━━━━━━━━━━━━━━━━━━━━━━━━━━━━━━━━\u001b[0m \u001b[32m272.7/272.7 kB\u001b[0m \u001b[31m24.6 MB/s\u001b[0m eta \u001b[36m0:00:00\u001b[0m\n",
            "\u001b[2K     \u001b[90m━━━━━━━━━━━━━━━━━━━━━━━━━━━━━━━━━━━━━━━━\u001b[0m \u001b[32m1.0/1.0 MB\u001b[0m \u001b[31m25.7 MB/s\u001b[0m eta \u001b[36m0:00:00\u001b[0m\n",
            "\u001b[2K     \u001b[90m━━━━━━━━━━━━━━━━━━━━━━━━━━━━━━━━━━━━━━━━\u001b[0m \u001b[32m57.0/57.0 kB\u001b[0m \u001b[31m6.2 MB/s\u001b[0m eta \u001b[36m0:00:00\u001b[0m\n",
            "\u001b[?25h  Preparing metadata (setup.py) ... \u001b[?25l\u001b[?25hdone\n",
            "\u001b[2K     \u001b[90m━━━━━━━━━━━━━━━━━━━━━━━━━━━━━━━━━━━━━━\u001b[0m \u001b[32m288.1/288.1 kB\u001b[0m \u001b[31m35.2 MB/s\u001b[0m eta \u001b[36m0:00:00\u001b[0m\n",
            "\u001b[2K     \u001b[90m━━━━━━━━━━━━━━━━━━━━━━━━━━━━━━━━━━━━━━━━\u001b[0m \u001b[32m75.4/75.4 kB\u001b[0m \u001b[31m11.1 MB/s\u001b[0m eta \u001b[36m0:00:00\u001b[0m\n",
            "\u001b[2K     \u001b[90m━━━━━━━━━━━━━━━━━━━━━━━━━━━━━━━━━━━━━━\u001b[0m \u001b[32m224.5/224.5 kB\u001b[0m \u001b[31m28.3 MB/s\u001b[0m eta \u001b[36m0:00:00\u001b[0m\n",
            "\u001b[2K     \u001b[90m━━━━━━━━━━━━━━━━━━━━━━━━━━━━━━━━━━━━━━━━\u001b[0m \u001b[32m50.5/50.5 kB\u001b[0m \u001b[31m6.9 MB/s\u001b[0m eta \u001b[36m0:00:00\u001b[0m\n",
            "\u001b[2K     \u001b[90m━━━━━━━━━━━━━━━━━━━━━━━━━━━━━━━━━━━━━━\u001b[0m \u001b[32m136.6/136.6 kB\u001b[0m \u001b[31m18.0 MB/s\u001b[0m eta \u001b[36m0:00:00\u001b[0m\n",
            "\u001b[2K     \u001b[90m━━━━━━━━━━━━━━━━━━━━━━━━━━━━━━━━━━━━━━━━\u001b[0m \u001b[32m45.7/45.7 kB\u001b[0m \u001b[31m6.1 MB/s\u001b[0m eta \u001b[36m0:00:00\u001b[0m\n",
            "\u001b[2K     \u001b[90m━━━━━━━━━━━━━━━━━━━━━━━━━━━━━━━━━━━━━━\u001b[0m \u001b[32m129.9/129.9 kB\u001b[0m \u001b[31m16.4 MB/s\u001b[0m eta \u001b[36m0:00:00\u001b[0m\n",
            "\u001b[2K     \u001b[90m━━━━━━━━━━━━━━━━━━━━━━━━━━━━━━━━━━━━━━━━\u001b[0m \u001b[32m58.3/58.3 kB\u001b[0m \u001b[31m8.1 MB/s\u001b[0m eta \u001b[36m0:00:00\u001b[0m\n",
            "\u001b[2K     \u001b[90m━━━━━━━━━━━━━━━━━━━━━━━━━━━━━━━━━━━━━━\u001b[0m \u001b[32m114.5/114.5 kB\u001b[0m \u001b[31m16.8 MB/s\u001b[0m eta \u001b[36m0:00:00\u001b[0m\n",
            "\u001b[2K     \u001b[90m━━━━━━━━━━━━━━━━━━━━━━━━━━━━━━━━━━━━━━\u001b[0m \u001b[32m268.8/268.8 kB\u001b[0m \u001b[31m33.4 MB/s\u001b[0m eta \u001b[36m0:00:00\u001b[0m\n",
            "\u001b[2K     \u001b[90m━━━━━━━━━━━━━━━━━━━━━━━━━━━━━━━━━━━━━━\u001b[0m \u001b[32m149.6/149.6 kB\u001b[0m \u001b[31m19.1 MB/s\u001b[0m eta \u001b[36m0:00:00\u001b[0m\n",
            "\u001b[2K     \u001b[90m━━━━━━━━━━━━━━━━━━━━━━━━━━━━━━━━━━━━━━\u001b[0m \u001b[32m112.4/112.4 kB\u001b[0m \u001b[31m15.5 MB/s\u001b[0m eta \u001b[36m0:00:00\u001b[0m\n",
            "\u001b[?25h  Preparing metadata (setup.py) ... \u001b[?25l\u001b[?25hdone\n",
            "\u001b[2K     \u001b[90m━━━━━━━━━━━━━━━━━━━━━━━━━━━━━━━━━━━━━━━━\u001b[0m \u001b[32m72.5/72.5 kB\u001b[0m \u001b[31m10.0 MB/s\u001b[0m eta \u001b[36m0:00:00\u001b[0m\n",
            "\u001b[?25h  Building wheel for fairseq (pyproject.toml) ... \u001b[?25l\u001b[?25hdone\n",
            "  Building wheel for pyworld (pyproject.toml) ... \u001b[?25l\u001b[?25hdone\n",
            "  Building wheel for antlr4-python3-runtime (setup.py) ... \u001b[?25l\u001b[?25hdone\n",
            "  Building wheel for ffmpy (setup.py) ... \u001b[?25l\u001b[?25hdone\n"
          ]
        }
      ]
    },
    {
      "cell_type": "markdown",
      "source": [
        "# Edit the app.py file if required or run this script to extend tts limit and audio limit"
      ],
      "metadata": {
        "id": "fcKIzh-UJdeo"
      }
    },
    {
      "cell_type": "code",
      "source": [
        "%%writefile app.py\n",
        "\n",
        "import os\n",
        "import json\n",
        "import argparse\n",
        "import traceback\n",
        "import logging\n",
        "import gradio as gr\n",
        "import numpy as np\n",
        "import librosa\n",
        "import torch\n",
        "import asyncio\n",
        "import edge_tts\n",
        "from datetime import datetime\n",
        "from fairseq import checkpoint_utils\n",
        "from infer_pack.models import SynthesizerTrnMs256NSFsid, SynthesizerTrnMs256NSFsid_nono\n",
        "from vc_infer_pipeline import VC\n",
        "from config import (\n",
        "    is_half,\n",
        "    device\n",
        ")\n",
        "logging.getLogger(\"numba\").setLevel(logging.WARNING)\n",
        "limitation = os.getenv(\"SYSTEM\") == \"spaces\"  # limit audio length in huggingface spaces\n",
        "\n",
        "def create_vc_fn(tgt_sr, net_g, vc, if_f0, file_index, file_big_npy):\n",
        "    def vc_fn(\n",
        "        input_audio,\n",
        "        f0_up_key,\n",
        "        f0_method,\n",
        "        index_rate,\n",
        "        tts_mode,\n",
        "        tts_text,\n",
        "        tts_voice\n",
        "    ):\n",
        "        try:\n",
        "            if tts_mode:\n",
        "                if len(tts_text) > 1200 and limitation:\n",
        "                    return \"Text is too long\", None\n",
        "                if tts_text is None or tts_voice is None:\n",
        "                    return \"You need to enter text and select a voice\", None\n",
        "                asyncio.run(edge_tts.Communicate(tts_text, \"-\".join(tts_voice.split('-')[:-1])).save(\"tts.mp3\"))\n",
        "                audio, sr = librosa.load(\"tts.mp3\", sr=16000, mono=True)\n",
        "            else:\n",
        "                if args.files:\n",
        "                    audio, sr = librosa.load(input_audio, sr=16000, mono=True)\n",
        "                else:\n",
        "                    if input_audio is None:\n",
        "                        return \"You need to upload an audio\", None\n",
        "                    sampling_rate, audio = input_audio\n",
        "                    duration = audio.shape[0] / sampling_rate\n",
        "                    if duration > 660 and limitation:\n",
        "                        return \"Please upload an audio file that is less than 11 minutes.\", None\n",
        "                    audio = (audio / np.iinfo(audio.dtype).max).astype(np.float32)\n",
        "                    if len(audio.shape) > 1:\n",
        "                        audio = librosa.to_mono(audio.transpose(1, 0))\n",
        "                    if sampling_rate != 16000:\n",
        "                        audio = librosa.resample(audio, orig_sr=sampling_rate, target_sr=16000)\n",
        "            times = [0, 0, 0]\n",
        "            f0_up_key = int(f0_up_key)\n",
        "            audio_opt = vc.pipeline(\n",
        "                hubert_model,\n",
        "                net_g,\n",
        "                0,\n",
        "                audio,\n",
        "                times,\n",
        "                f0_up_key,\n",
        "                f0_method,\n",
        "                file_index,\n",
        "                file_big_npy,\n",
        "                index_rate,\n",
        "                if_f0,\n",
        "            )\n",
        "            print(\n",
        "                f\"[{datetime.now().strftime('%Y-%m-%d %H:%M')}]: npy: {times[0]}, f0: {times[1]}s, infer: {times[2]}s\"\n",
        "            )\n",
        "            return \"Success\", (tgt_sr, audio_opt)\n",
        "        except:\n",
        "            info = traceback.format_exc()\n",
        "            print(info)\n",
        "            return info, (None, None)\n",
        "    return vc_fn\n",
        "\n",
        "def load_hubert():\n",
        "    global hubert_model\n",
        "    models, _, _ = checkpoint_utils.load_model_ensemble_and_task(\n",
        "        [\"hubert_base.pt\"],\n",
        "        suffix=\"\",\n",
        "    )\n",
        "    hubert_model = models[0]\n",
        "    hubert_model = hubert_model.to(device)\n",
        "    if is_half:\n",
        "        hubert_model = hubert_model.half()\n",
        "    else:\n",
        "        hubert_model = hubert_model.float()\n",
        "    hubert_model.eval()\n",
        "\n",
        "def change_to_tts_mode(tts_mode):\n",
        "    if tts_mode:\n",
        "        return gr.Audio.update(visible=False), gr.Textbox.update(visible=True), gr.Dropdown.update(visible=True)\n",
        "    else:\n",
        "        return gr.Audio.update(visible=True), gr.Textbox.update(visible=False), gr.Dropdown.update(visible=False)\n",
        "\n",
        "if __name__ == '__main__':\n",
        "    parser = argparse.ArgumentParser()\n",
        "    parser.add_argument('--api', action=\"store_true\", default=False)\n",
        "    parser.add_argument(\"--share\", action=\"store_true\", default=False, help=\"share gradio app\")\n",
        "    parser.add_argument(\"--files\", action=\"store_true\", default=False, help=\"load audio from path\")\n",
        "    args, unknown = parser.parse_known_args()\n",
        "    load_hubert()\n",
        "    models = []\n",
        "    tts_voice_list = asyncio.get_event_loop().run_until_complete(edge_tts.list_voices())\n",
        "    voices = [f\"{v['ShortName']}-{v['Gender']}\" for v in tts_voice_list]\n",
        "    with open(\"weights/model_info.json\", \"r\", encoding=\"utf-8\") as f:\n",
        "        models_info = json.load(f)\n",
        "    for name, info in models_info.items():\n",
        "        if not info['enable']:\n",
        "            continue\n",
        "        title = info['title']\n",
        "        author = info.get(\"author\", None)\n",
        "        cover = f\"weights/{name}/{info['cover']}\"\n",
        "        index = f\"weights/{name}/{info['feature_retrieval_library']}\"\n",
        "        npy = f\"weights/{name}/{info['feature_file']}\"\n",
        "        cpt = torch.load(f\"weights/{name}/{name}.pth\", map_location=\"cpu\")\n",
        "        tgt_sr = cpt[\"config\"][-1]\n",
        "        cpt[\"config\"][-3] = cpt[\"weight\"][\"emb_g.weight\"].shape[0]  # n_spk\n",
        "        if_f0 = cpt.get(\"f0\", 1)\n",
        "        if if_f0 == 1:\n",
        "            net_g = SynthesizerTrnMs256NSFsid(*cpt[\"config\"], is_half=is_half)\n",
        "        else:\n",
        "            net_g = SynthesizerTrnMs256NSFsid_nono(*cpt[\"config\"])\n",
        "        del net_g.enc_q\n",
        "        print(net_g.load_state_dict(cpt[\"weight\"], strict=False))  # 不加这一行清不干净, 真奇葩\n",
        "        net_g.eval().to(device)\n",
        "        if is_half:\n",
        "            net_g = net_g.half()\n",
        "        else:\n",
        "            net_g = net_g.float()\n",
        "        vc = VC(tgt_sr, device, is_half)\n",
        "        models.append((name, title, author, cover, create_vc_fn(tgt_sr, net_g, vc, if_f0, index, npy)))\n",
        "    with gr.Blocks() as app:\n",
        "        gr.Markdown(\n",
        "            \"# <center> Hololive RVC Models\\n\"\n",
        "            \"## <center> The input audio should be clean and pure voice without background music.\\n\"\n",
        "            \"[![ko-fi](https://ko-fi.com/img/githubbutton_sm.svg)](https://ko-fi.com/megaaziib)\\n\\n\"\n",
        "        )\n",
        "        with gr.Tabs():\n",
        "            for (name, title, author, cover, vc_fn) in models:\n",
        "                with gr.TabItem(name):\n",
        "                    with gr.Row():\n",
        "                        gr.Markdown(\n",
        "                            '<div align=\"center\">'\n",
        "                            f'<div>{title}</div>\\n'+\n",
        "                            (f'<div>Model author: {author}</div>' if author else \"\")+\n",
        "                            (f'<img style=\"width:auto;height:300px;\" src=\"file/{cover}\">' if cover else \"\")+\n",
        "                            '</div>'\n",
        "                        )\n",
        "                    with gr.Row():\n",
        "                        with gr.Column():\n",
        "                            if args.files:\n",
        "                                vc_input = gr.Textbox(label=\"Input audio path\")\n",
        "                            else:\n",
        "                                vc_input = gr.Audio(label=\"Input audio\"+' (less than 11 minutes)' if limitation else '')\n",
        "                            vc_transpose = gr.Number(label=\"Transpose\", value=0)\n",
        "                            vc_f0method = gr.Radio(\n",
        "                                label=\"Pitch extraction algorithm, PM is fast but Harvest is better for low frequencies\",\n",
        "                                choices=[\"pm\", \"harvest\"],\n",
        "                                value=\"pm\",\n",
        "                                interactive=True,\n",
        "                            )\n",
        "                            vc_index_ratio = gr.Slider(\n",
        "                                minimum=0,\n",
        "                                maximum=1,\n",
        "                                label=\"Retrieval feature ratio\",\n",
        "                                value=0.6,\n",
        "                                interactive=True,\n",
        "                            )\n",
        "                            tts_mode = gr.Checkbox(label=\"tts (use edge-tts as input)\", value=False)\n",
        "                            tts_text = gr.Textbox(visible=False,label=\"TTS text (1200 words limitation)\" if limitation else \"TTS text\")\n",
        "                            tts_voice = gr.Dropdown(label=\"Edge-tts speaker\", choices=voices, visible=False, allow_custom_value=False, value=\"en-US-AnaNeural-Female\")\n",
        "                            vc_submit = gr.Button(\"Generate\", variant=\"primary\")\n",
        "                        with gr.Column():\n",
        "                            vc_output1 = gr.Textbox(label=\"Output Message\")\n",
        "                            vc_output2 = gr.Audio(label=\"Output Audio\")\n",
        "                vc_submit.click(vc_fn, [vc_input, vc_transpose, vc_f0method, vc_index_ratio, tts_mode, tts_text, tts_voice], [vc_output1, vc_output2])\n",
        "                tts_mode.change(change_to_tts_mode, [tts_mode], [vc_input, tts_text, tts_voice])\n",
        "        app.queue(concurrency_count=1, max_size=20, api_open=args.api).launch(share=args.share)\n",
        "     "
      ],
      "metadata": {
        "id": "JSxrQWyvJg8K",
        "outputId": "0b7207a7-ca4a-4bdc-fdb5-8dacc8b56e78",
        "colab": {
          "base_uri": "https://localhost:8080/"
        }
      },
      "execution_count": null,
      "outputs": [
        {
          "output_type": "stream",
          "name": "stdout",
          "text": [
            "Overwriting app.py\n"
          ]
        }
      ]
    },
    {
      "cell_type": "markdown",
      "source": [
        "# Run the app.py to execute/run the Gradio app and click the public url"
      ],
      "metadata": {
        "id": "JY5z6CCBFw1E"
      }
    },
    {
      "cell_type": "code",
      "source": [
        "! python app.py --share"
      ],
      "metadata": {
        "id": "H7qo-6AWFbLH",
        "outputId": "0fbd2f67-6b10-4f26-eae2-4e4b37406db3",
        "colab": {
          "base_uri": "https://localhost:8080/"
        }
      },
      "execution_count": null,
      "outputs": [
        {
          "output_type": "stream",
          "name": "stdout",
          "text": [
            "2023-05-27 21:31:44.595610: I tensorflow/core/platform/cpu_feature_guard.cc:182] This TensorFlow binary is optimized to use available CPU instructions in performance-critical operations.\n",
            "To enable the following instructions: AVX2 FMA, in other operations, rebuild TensorFlow with the appropriate compiler flags.\n",
            "2023-05-27 21:31:45.644929: W tensorflow/compiler/tf2tensorrt/utils/py_utils.cc:38] TF-TRT Warning: Could not find TensorRT\n",
            "2023-05-27 21:31:47 | INFO | faiss.loader | Loading faiss with AVX2 support.\n",
            "2023-05-27 21:31:47 | INFO | faiss.loader | Could not load library with AVX2 support due to:\n",
            "ModuleNotFoundError(\"No module named 'faiss.swigfaiss_avx2'\")\n",
            "2023-05-27 21:31:47 | INFO | faiss.loader | Loading faiss.\n",
            "2023-05-27 21:31:47 | INFO | faiss.loader | Successfully loaded faiss.\n",
            "2023-05-27 21:31:47 | INFO | fairseq.tasks.hubert_pretraining | current directory is /content/rvc-simple\n",
            "2023-05-27 21:31:47 | INFO | fairseq.tasks.hubert_pretraining | HubertPretrainingTask Config {'_name': 'hubert_pretraining', 'data': 'metadata', 'fine_tuning': False, 'labels': ['km'], 'label_dir': 'label', 'label_rate': 50.0, 'sample_rate': 16000, 'normalize': False, 'enable_padding': False, 'max_keep_size': None, 'max_sample_size': 250000, 'min_sample_size': 32000, 'single_target': False, 'random_crop': True, 'pad_audio': False}\n",
            "2023-05-27 21:31:47 | INFO | fairseq.models.hubert.hubert | HubertModel Config: {'_name': 'hubert', 'label_rate': 50.0, 'extractor_mode': default, 'encoder_layers': 12, 'encoder_embed_dim': 768, 'encoder_ffn_embed_dim': 3072, 'encoder_attention_heads': 12, 'activation_fn': gelu, 'layer_type': transformer, 'dropout': 0.1, 'attention_dropout': 0.1, 'activation_dropout': 0.0, 'encoder_layerdrop': 0.05, 'dropout_input': 0.1, 'dropout_features': 0.1, 'final_dim': 256, 'untie_final_proj': True, 'layer_norm_first': False, 'conv_feature_layers': '[(512,10,5)] + [(512,3,2)] * 4 + [(512,2,2)] * 2', 'conv_bias': False, 'logit_temp': 0.1, 'target_glu': False, 'feature_grad_mult': 0.1, 'mask_length': 10, 'mask_prob': 0.8, 'mask_selection': static, 'mask_other': 0.0, 'no_mask_overlap': False, 'mask_min_space': 1, 'mask_channel_length': 10, 'mask_channel_prob': 0.0, 'mask_channel_selection': static, 'mask_channel_other': 0.0, 'no_mask_channel_overlap': False, 'mask_channel_min_space': 1, 'conv_pos': 128, 'conv_pos_groups': 16, 'latent_temp': [2.0, 0.5, 0.999995], 'skip_masked': False, 'skip_nomask': False, 'checkpoint_activations': False, 'required_seq_len_multiple': 2, 'depthwise_conv_kernel_size': 31, 'attn_type': '', 'pos_enc_type': 'abs', 'fp16': False}\n",
            "gin_channels: 256 self.spk_embed_dim: 109\n",
            "<All keys matched successfully>\n",
            "gin_channels: 256 self.spk_embed_dim: 109\n",
            "<All keys matched successfully>\n",
            "gin_channels: 256 self.spk_embed_dim: 109\n",
            "<All keys matched successfully>\n",
            "gin_channels: 256 self.spk_embed_dim: 109\n",
            "<All keys matched successfully>\n",
            "gin_channels: 256 self.spk_embed_dim: 109\n",
            "<All keys matched successfully>\n",
            "gin_channels: 256 self.spk_embed_dim: 109\n",
            "<All keys matched successfully>\n",
            "gin_channels: 256 self.spk_embed_dim: 109\n",
            "<All keys matched successfully>\n",
            "gin_channels: 256 self.spk_embed_dim: 109\n",
            "<All keys matched successfully>\n",
            "gin_channels: 256 self.spk_embed_dim: 109\n",
            "<All keys matched successfully>\n",
            "gin_channels: 256 self.spk_embed_dim: 109\n",
            "<All keys matched successfully>\n",
            "Running on local URL:  http://127.0.0.1:7860\n",
            "Running on public URL: https://07d095e1f0d321be42.gradio.live\n",
            "\n",
            "This share link expires in 72 hours. For free permanent hosting and GPU upgrades (NEW!), check out Spaces: https://huggingface.co/spaces\n",
            "[2023-05-27 21:33]: npy: 2.1788229942321777, f0: 1.9795219898223877s, infer: 4.091914415359497s\n",
            "2023-05-27 21:33:14 | INFO | httpx | HTTP Request: POST http://127.0.0.1:7860/api/predict \"HTTP/1.1 200 OK\"\n",
            "2023-05-27 21:33:14 | INFO | httpx | HTTP Request: POST http://127.0.0.1:7860/reset \"HTTP/1.1 200 OK\"\n",
            "Keyboard interruption in main thread... closing server.\n",
            "Traceback (most recent call last):\n",
            "  File \"/usr/local/lib/python3.10/dist-packages/gradio/blocks.py\", line 2026, in block_thread\n",
            "    time.sleep(0.1)\n",
            "KeyboardInterrupt\n",
            "\n",
            "During handling of the above exception, another exception occurred:\n",
            "\n",
            "Traceback (most recent call last):\n",
            "  File \"/content/rvc-simple/app.py\", line 185, in <module>\n",
            "    app.queue(concurrency_count=1, max_size=20, api_open=args.api).launch(share=args.share)\n",
            "  File \"/usr/local/lib/python3.10/dist-packages/gradio/blocks.py\", line 1943, in launch\n",
            "    self.block_thread()\n",
            "  File \"/usr/local/lib/python3.10/dist-packages/gradio/blocks.py\", line 2029, in block_thread\n",
            "    self.server.close()\n",
            "  File \"/usr/local/lib/python3.10/dist-packages/gradio/networking.py\", line 43, in close\n",
            "    self.thread.join()\n",
            "  File \"/usr/lib/python3.10/threading.py\", line 1096, in join\n",
            "    self._wait_for_tstate_lock()\n",
            "  File \"/usr/lib/python3.10/threading.py\", line 1116, in _wait_for_tstate_lock\n",
            "    if lock.acquire(block, timeout):\n",
            "KeyboardInterrupt\n",
            "\u001b[0mKilling tunnel 127.0.0.1:7860 <> https://07d095e1f0d321be42.gradio.live\n",
            "^C\n"
          ]
        }
      ]
    }
  ]
}